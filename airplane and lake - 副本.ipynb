{
 "cells": [
  {
   "cell_type": "code",
   "execution_count": 1,
   "metadata": {},
   "outputs": [],
   "source": [
    "import tensorflow as tf"
   ]
  },
  {
   "cell_type": "code",
   "execution_count": 2,
   "metadata": {},
   "outputs": [
    {
     "name": "stdout",
     "output_type": "stream",
     "text": [
      "Tensorflow Version:2.3.0\n"
     ]
    }
   ],
   "source": [
    "print(f'Tensorflow Version:{tf.__version__}')"
   ]
  },
  {
   "cell_type": "code",
   "execution_count": 3,
   "metadata": {},
   "outputs": [],
   "source": [
    "# tf.config.list_physical_devices('GPU')           # 确认运行环境"
   ]
  },
  {
   "cell_type": "code",
   "execution_count": 4,
   "metadata": {},
   "outputs": [],
   "source": [
    "from tensorflow import keras\n",
    "import matplotlib.pyplot as plt\n",
    "%matplotlib inline\n",
    "import numpy as np\n",
    "import glob      # 批处理文件路径"
   ]
  },
  {
   "cell_type": "code",
   "execution_count": 5,
   "metadata": {},
   "outputs": [],
   "source": [
    "all_image_path = glob.glob('D:/deep-learning/2_class/*/*.jpg')"
   ]
  },
  {
   "cell_type": "code",
   "execution_count": 6,
   "metadata": {},
   "outputs": [
    {
     "data": {
      "text/plain": [
       "['D:/deep-learning/2_class\\\\airplane\\\\airplane_001.jpg',\n",
       " 'D:/deep-learning/2_class\\\\airplane\\\\airplane_002.jpg',\n",
       " 'D:/deep-learning/2_class\\\\airplane\\\\airplane_003.jpg',\n",
       " 'D:/deep-learning/2_class\\\\airplane\\\\airplane_004.jpg',\n",
       " 'D:/deep-learning/2_class\\\\airplane\\\\airplane_005.jpg']"
      ]
     },
     "execution_count": 6,
     "metadata": {},
     "output_type": "execute_result"
    }
   ],
   "source": [
    "all_image_path[:5]"
   ]
  },
  {
   "cell_type": "code",
   "execution_count": 7,
   "metadata": {},
   "outputs": [
    {
     "data": {
      "text/plain": [
       "1400"
      ]
     },
     "execution_count": 7,
     "metadata": {},
     "output_type": "execute_result"
    }
   ],
   "source": [
    "len(all_image_path)"
   ]
  },
  {
   "cell_type": "code",
   "execution_count": 8,
   "metadata": {},
   "outputs": [],
   "source": [
    "import random "
   ]
  },
  {
   "cell_type": "code",
   "execution_count": 9,
   "metadata": {},
   "outputs": [],
   "source": [
    "random.shuffle(all_image_path)"
   ]
  },
  {
   "cell_type": "code",
   "execution_count": 10,
   "metadata": {},
   "outputs": [
    {
     "data": {
      "text/plain": [
       "['D:/deep-learning/2_class\\\\airplane\\\\airplane_002.jpg',\n",
       " 'D:/deep-learning/2_class\\\\lake\\\\lake_614.jpg',\n",
       " 'D:/deep-learning/2_class\\\\lake\\\\lake_341.jpg',\n",
       " 'D:/deep-learning/2_class\\\\airplane\\\\airplane_661.jpg',\n",
       " 'D:/deep-learning/2_class\\\\lake\\\\lake_361.jpg']"
      ]
     },
     "execution_count": 10,
     "metadata": {},
     "output_type": "execute_result"
    }
   ],
   "source": [
    "all_image_path[:5]"
   ]
  },
  {
   "cell_type": "code",
   "execution_count": 11,
   "metadata": {},
   "outputs": [],
   "source": [
    "label_to_index = {'airplane': 0, 'lake': 1}"
   ]
  },
  {
   "cell_type": "code",
   "execution_count": 12,
   "metadata": {},
   "outputs": [],
   "source": [
    "index_to_label = dict((i,j) for j, i in label_to_index.items())"
   ]
  },
  {
   "cell_type": "markdown",
   "metadata": {},
   "source": [
    "使用split获取图片类别"
   ]
  },
  {
   "cell_type": "code",
   "execution_count": 13,
   "metadata": {},
   "outputs": [],
   "source": [
    "img = all_image_path[100]"
   ]
  },
  {
   "cell_type": "code",
   "execution_count": 14,
   "metadata": {},
   "outputs": [
    {
     "data": {
      "text/plain": [
       "'lake'"
      ]
     },
     "execution_count": 14,
     "metadata": {},
     "output_type": "execute_result"
    }
   ],
   "source": [
    "img.split('\\\\')[1]"
   ]
  },
  {
   "cell_type": "code",
   "execution_count": 15,
   "metadata": {},
   "outputs": [
    {
     "data": {
      "text/plain": [
       "1"
      ]
     },
     "execution_count": 15,
     "metadata": {},
     "output_type": "execute_result"
    }
   ],
   "source": [
    "label_to_index.get(img.split('\\\\')[1])"
   ]
  },
  {
   "cell_type": "code",
   "execution_count": 16,
   "metadata": {},
   "outputs": [],
   "source": [
    "all_labels = [label_to_index.get(img.split('\\\\')[1]) for img in all_image_path]"
   ]
  },
  {
   "cell_type": "code",
   "execution_count": 17,
   "metadata": {},
   "outputs": [
    {
     "data": {
      "text/plain": [
       "[0, 1, 1, 0, 1]"
      ]
     },
     "execution_count": 17,
     "metadata": {},
     "output_type": "execute_result"
    }
   ],
   "source": [
    "all_labels[:5]"
   ]
  },
  {
   "cell_type": "markdown",
   "metadata": {},
   "source": [
    "读取图片"
   ]
  },
  {
   "cell_type": "code",
   "execution_count": 23,
   "metadata": {},
   "outputs": [],
   "source": [
    "def load_img(path):\n",
    "    img_raw = tf.io.read_file(path)            # 读取图片\n",
    "    img_tensor = tf.image.decode_jpeg(img_raw, channels=3)                   # 对tensor格式进行解码\n",
    "    img_tensor = tf.image.resize(img_tensor, [256, 256])                  # 规范图片大小\n",
    "    img_tensor = tf.cast(img_tensor, tf.float32)                      # 转换数据类型\n",
    "    img_tensor = img_tensor/255                            # 归一化\n",
    "    return img_tensor"
   ]
  },
  {
   "cell_type": "code",
   "execution_count": 24,
   "metadata": {},
   "outputs": [
    {
     "data": {
      "image/png": "[encoded data removed]",
      "text/plain": [
       "<Figure size 432x288 with 1 Axes>"
      ]
     },
     "metadata": {
      "needs_background": "light"
     },
     "output_type": "display_data"
    }
   ],
   "source": [
    "i = random.choice(range(len(all_image_path)))\n",
    "img_tensor = load_img(all_image_path[i])\n",
    "label = all_labels[i]\n",
    "plt.title(index_to_label.get(label))\n",
    "plt.imshow(img_tensor.numpy())\n",
    "plt.show()"
   ]
  },
  {
   "cell_type": "markdown",
   "metadata": {},
   "source": [
    "创建dataset"
   ]
  },
  {
   "cell_type": "code",
   "execution_count": 25,
   "metadata": {},
   "outputs": [],
   "source": [
    "# img_tensor.shape[0]"
   ]
  },
  {
   "cell_type": "code",
   "execution_count": 26,
   "metadata": {},
   "outputs": [],
   "source": [
    "img_ds = tf.data.Dataset.from_tensor_slices(all_image_path)\n",
    "img_ds = img_ds.map(load_img)"
   ]
  },
  {
   "cell_type": "code",
   "execution_count": 27,
   "metadata": {},
   "outputs": [
    {
     "data": {
      "text/plain": [
       "<MapDataset shapes: (256, 256, 3), types: tf.float32>"
      ]
     },
     "execution_count": 27,
     "metadata": {},
     "output_type": "execute_result"
    }
   ],
   "source": [
    "img_ds"
   ]
  },
  {
   "cell_type": "code",
   "execution_count": 28,
   "metadata": {},
   "outputs": [],
   "source": [
    "label_ds = tf.data.Dataset.from_tensor_slices(all_labels)"
   ]
  },
  {
   "cell_type": "code",
   "execution_count": 29,
   "metadata": {},
   "outputs": [
    {
     "data": {
      "text/plain": [
       "<TensorSliceDataset shapes: (), types: tf.int32>"
      ]
     },
     "execution_count": 29,
     "metadata": {},
     "output_type": "execute_result"
    }
   ],
   "source": [
    "label_ds"
   ]
  },
  {
   "cell_type": "markdown",
   "metadata": {},
   "source": [
    "## 划分训练集和测试集"
   ]
  },
  {
   "cell_type": "markdown",
   "metadata": {},
   "source": [
    "合并图片和标签"
   ]
  },
  {
   "cell_type": "code",
   "execution_count": 30,
   "metadata": {},
   "outputs": [],
   "source": [
    "img_label_ds = tf.data.Dataset.zip((img_ds, label_ds))"
   ]
  },
  {
   "cell_type": "code",
   "execution_count": 31,
   "metadata": {},
   "outputs": [],
   "source": [
    "img_count = len(all_image_path)\n",
    "test_count = int(img_count * 0.2)\n",
    "train_count = img_count - test_count"
   ]
  },
  {
   "cell_type": "code",
   "execution_count": 32,
   "metadata": {},
   "outputs": [],
   "source": [
    "train_ds = img_label_ds.skip(test_count)\n",
    "test_ds = img_label_ds.take(test_count)"
   ]
  },
  {
   "cell_type": "code",
   "execution_count": 33,
   "metadata": {},
   "outputs": [],
   "source": [
    "BATCH_SIZE = 16"
   ]
  },
  {
   "cell_type": "code",
   "execution_count": 34,
   "metadata": {},
   "outputs": [],
   "source": [
    "train_ds = train_ds.repeat().shuffle(buffer_size=100).batch(BATCH_SIZE)"
   ]
  },
  {
   "cell_type": "code",
   "execution_count": 35,
   "metadata": {},
   "outputs": [
    {
     "data": {
      "text/plain": [
       "<BatchDataset shapes: ((None, 256, 256, 3), (None,)), types: (tf.float32, tf.int32)>"
      ]
     },
     "execution_count": 35,
     "metadata": {},
     "output_type": "execute_result"
    }
   ],
   "source": [
    "train_ds"
   ]
  },
  {
   "cell_type": "code",
   "execution_count": 36,
   "metadata": {},
   "outputs": [],
   "source": [
    "test_ds = test_ds.batch(BATCH_SIZE)"
   ]
  },
  {
   "cell_type": "code",
   "execution_count": 37,
   "metadata": {},
   "outputs": [
    {
     "data": {
      "text/plain": [
       "<BatchDataset shapes: ((None, 256, 256, 3), (None,)), types: (tf.float32, tf.int32)>"
      ]
     },
     "execution_count": 37,
     "metadata": {},
     "output_type": "execute_result"
    }
   ],
   "source": [
    "test_ds"
   ]
  },
  {
   "cell_type": "markdown",
   "metadata": {},
   "source": [
    "## 模型的创建"
   ]
  },
  {
   "cell_type": "code",
   "execution_count": 38,
   "metadata": {},
   "outputs": [],
   "source": [
    "model = tf.keras.Sequential()\n",
    "model.add(tf.keras.layers.Conv2D(64, (3, 3), input_shape=(256,256,3),activation='relu',padding='same'))     # 卷积层\n",
    "model.add(tf.keras.layers.Conv2D(64, (3, 3), activation='relu',padding='same'))\n",
    "model.add(tf.keras.layers.MaxPool2D())        # 池化层\n",
    "model.add(tf.keras.layers.Dropout(0.5))\n",
    "model.add(tf.keras.layers.Conv2D(128, (3, 3), activation='relu',padding='same'))\n",
    "model.add(tf.keras.layers.Conv2D(128, (3, 3), activation='relu',padding='same'))\n",
    "model.add(tf.keras.layers.MaxPool2D())\n",
    "model.add(tf.keras.layers.Dropout(0.5))\n",
    "model.add(tf.keras.layers.Conv2D(256, (3, 3), activation='relu',padding='same'))\n",
    "model.add(tf.keras.layers.Conv2D(256, (3, 3), activation='relu',padding='same'))\n",
    "model.add(tf.keras.layers.MaxPool2D())\n",
    "model.add(tf.keras.layers.Dropout(0.5))\n",
    "model.add(tf.keras.layers.Conv2D(512, (3, 3), activation='relu',padding='same'))\n",
    "model.add(tf.keras.layers.Conv2D(512, (3, 3), activation='relu',padding='same'))\n",
    "model.add(tf.keras.layers.Dropout(0.5))\n",
    "model.add(tf.keras.layers.GlobalAveragePooling2D())\n",
    "model.add(tf.keras.layers.Dense(256, activation='relu'))\n",
    "model.add(tf.keras.layers.Dense(1, activation='sigmoid'))"
   ]
  },
  {
   "cell_type": "code",
   "execution_count": 39,
   "metadata": {},
   "outputs": [
    {
     "name": "stdout",
     "output_type": "stream",
     "text": [
      "Model: \"sequential\"\n",
      "_________________________________________________________________\n",
      "Layer (type)                 Output Shape              Param #   \n",
      "=================================================================\n",
      "conv2d (Conv2D)              (None, 256, 256, 64)      1792      \n",
      "_________________________________________________________________\n",
      "conv2d_1 (Conv2D)            (None, 256, 256, 64)      36928     \n",
      "_________________________________________________________________\n",
      "max_pooling2d (MaxPooling2D) (None, 128, 128, 64)      0         \n",
      "_________________________________________________________________\n",
      "dropout (Dropout)            (None, 128, 128, 64)      0         \n",
      "_________________________________________________________________\n",
      "conv2d_2 (Conv2D)            (None, 128, 128, 128)     73856     \n",
      "_________________________________________________________________\n",
      "conv2d_3 (Conv2D)            (None, 128, 128, 128)     147584    \n",
      "_________________________________________________________________\n",
      "max_pooling2d_1 (MaxPooling2 (None, 64, 64, 128)       0         \n",
      "_________________________________________________________________\n",
      "dropout_1 (Dropout)          (None, 64, 64, 128)       0         \n",
      "_________________________________________________________________\n",
      "conv2d_4 (Conv2D)            (None, 64, 64, 256)       295168    \n",
      "_________________________________________________________________\n",
      "conv2d_5 (Conv2D)            (None, 64, 64, 256)       590080    \n",
      "_________________________________________________________________\n",
      "max_pooling2d_2 (MaxPooling2 (None, 32, 32, 256)       0         \n",
      "_________________________________________________________________\n",
      "dropout_2 (Dropout)          (None, 32, 32, 256)       0         \n",
      "_________________________________________________________________\n",
      "conv2d_6 (Conv2D)            (None, 32, 32, 512)       1180160   \n",
      "_________________________________________________________________\n",
      "conv2d_7 (Conv2D)            (None, 32, 32, 512)       2359808   \n",
      "_________________________________________________________________\n",
      "dropout_3 (Dropout)          (None, 32, 32, 512)       0         \n",
      "_________________________________________________________________\n",
      "global_average_pooling2d (Gl (None, 512)               0         \n",
      "_________________________________________________________________\n",
      "dense (Dense)                (None, 256)               131328    \n",
      "_________________________________________________________________\n",
      "dense_1 (Dense)              (None, 1)                 257       \n",
      "=================================================================\n",
      "Total params: 4,816,961\n",
      "Trainable params: 4,816,961\n",
      "Non-trainable params: 0\n",
      "_________________________________________________________________\n"
     ]
    }
   ],
   "source": [
    "model.summary()"
   ]
  },
  {
   "cell_type": "code",
   "execution_count": 40,
   "metadata": {},
   "outputs": [],
   "source": [
    "model.compile(optimizer=tf.keras.optimizers.Adam(learning_rate=0.0001),\n",
    "              loss=tf.keras.losses.BinaryCrossentropy(),\n",
    "              metrics=['acc']\n",
    ")"
   ]
  },
  {
   "cell_type": "code",
   "execution_count": 41,
   "metadata": {},
   "outputs": [],
   "source": [
    "steps_per_epochs = train_count//BATCH_SIZE\n",
    "val_step = test_count//BATCH_SIZE"
   ]
  },
  {
   "cell_type": "code",
   "execution_count": 42,
   "metadata": {
    "scrolled": true
   },
   "outputs": [
    {
     "name": "stdout",
     "output_type": "stream",
     "text": [
      "Epoch 1/30\n",
      "70/70 [==============================] - 628s 9s/step - loss: 0.6453 - acc: 0.5286 - val_loss: 0.6655 - val_acc: 0.8676\n",
      "Epoch 2/30\n",
      "70/70 [==============================] - 637s 9s/step - loss: 0.4630 - acc: 0.8295 - val_loss: 0.3355 - val_acc: 0.9007\n",
      "Epoch 3/30\n",
      "70/70 [==============================] - 633s 9s/step - loss: 0.1732 - acc: 0.9509 - val_loss: 0.2341 - val_acc: 0.9338\n",
      "Epoch 4/30\n",
      "70/70 [==============================] - 633s 9s/step - loss: 0.1364 - acc: 0.9616 - val_loss: 0.3041 - val_acc: 0.8824\n",
      "Epoch 5/30\n",
      "70/70 [==============================] - 620s 9s/step - loss: 0.1497 - acc: 0.9545 - val_loss: 0.1754 - val_acc: 0.9522\n",
      "Epoch 6/30\n",
      "70/70 [==============================] - 633s 9s/step - loss: 0.1082 - acc: 0.9616 - val_loss: 0.1948 - val_acc: 0.9485\n",
      "Epoch 7/30\n",
      "70/70 [==============================] - 625s 9s/step - loss: 0.1032 - acc: 0.9679 - val_loss: 0.1340 - val_acc: 0.9632\n",
      "Epoch 8/30\n",
      "70/70 [==============================] - 626s 9s/step - loss: 0.0968 - acc: 0.9696 - val_loss: 0.1389 - val_acc: 0.9743\n",
      "Epoch 9/30\n",
      "70/70 [==============================] - 618s 9s/step - loss: 0.0931 - acc: 0.9714 - val_loss: 0.2106 - val_acc: 0.9301\n",
      "Epoch 10/30\n",
      "70/70 [==============================] - 620s 9s/step - loss: 0.1013 - acc: 0.9714 - val_loss: 0.1320 - val_acc: 0.9669\n",
      "Epoch 11/30\n",
      "70/70 [==============================] - 624s 9s/step - loss: 0.0791 - acc: 0.9768 - val_loss: 0.1081 - val_acc: 0.9779\n",
      "Epoch 12/30\n",
      "70/70 [==============================] - 618s 9s/step - loss: 0.0813 - acc: 0.9768 - val_loss: 0.1205 - val_acc: 0.9743\n",
      "Epoch 13/30\n",
      "70/70 [==============================] - 615s 9s/step - loss: 0.0611 - acc: 0.9821 - val_loss: 0.0901 - val_acc: 0.9779\n",
      "Epoch 14/30\n",
      "70/70 [==============================] - 619s 9s/step - loss: 0.0553 - acc: 0.9848 - val_loss: 0.1180 - val_acc: 0.9743\n",
      "Epoch 15/30\n",
      "70/70 [==============================] - 618s 9s/step - loss: 0.0737 - acc: 0.9812 - val_loss: 0.1255 - val_acc: 0.9706\n",
      "Epoch 16/30\n",
      "70/70 [==============================] - 618s 9s/step - loss: 0.0651 - acc: 0.9830 - val_loss: 0.1064 - val_acc: 0.9706\n",
      "Epoch 17/30\n",
      "70/70 [==============================] - 620s 9s/step - loss: 0.0581 - acc: 0.9812 - val_loss: 0.0996 - val_acc: 0.9853\n",
      "Epoch 18/30\n",
      "70/70 [==============================] - 620s 9s/step - loss: 0.0491 - acc: 0.9875 - val_loss: 0.0831 - val_acc: 0.9853\n",
      "Epoch 19/30\n",
      "70/70 [==============================] - 619s 9s/step - loss: 0.0871 - acc: 0.9795 - val_loss: 0.1073 - val_acc: 0.9779\n",
      "Epoch 20/30\n",
      "70/70 [==============================] - 627s 9s/step - loss: 0.0501 - acc: 0.9848 - val_loss: 0.1139 - val_acc: 0.9743\n",
      "Epoch 21/30\n",
      "70/70 [==============================] - 627s 9s/step - loss: 0.0573 - acc: 0.9830 - val_loss: 0.1411 - val_acc: 0.9596\n",
      "Epoch 22/30\n",
      "70/70 [==============================] - 618s 9s/step - loss: 0.0624 - acc: 0.9804 - val_loss: 0.1009 - val_acc: 0.9779\n",
      "Epoch 23/30\n",
      "70/70 [==============================] - 619s 9s/step - loss: 0.0560 - acc: 0.9839 - val_loss: 0.0851 - val_acc: 0.9816\n",
      "Epoch 24/30\n",
      "70/70 [==============================] - 620s 9s/step - loss: 0.0600 - acc: 0.9839 - val_loss: 0.1002 - val_acc: 0.9779\n",
      "Epoch 25/30\n",
      "70/70 [==============================] - 623s 9s/step - loss: 0.0590 - acc: 0.9821 - val_loss: 0.0723 - val_acc: 0.9816\n",
      "Epoch 26/30\n",
      "70/70 [==============================] - 621s 9s/step - loss: 0.0454 - acc: 0.9875 - val_loss: 0.0668 - val_acc: 0.9816\n",
      "Epoch 27/30\n",
      "70/70 [==============================] - 617s 9s/step - loss: 0.0378 - acc: 0.9902 - val_loss: 0.0794 - val_acc: 0.9743\n",
      "Epoch 28/30\n",
      "70/70 [==============================] - 620s 9s/step - loss: 0.0696 - acc: 0.9759 - val_loss: 0.0845 - val_acc: 0.9816\n",
      "Epoch 29/30\n",
      "70/70 [==============================] - 655s 9s/step - loss: 0.0408 - acc: 0.9893 - val_loss: 0.0855 - val_acc: 0.9779\n",
      "Epoch 30/30\n",
      "70/70 [==============================] - 641s 9s/step - loss: 0.0515 - acc: 0.9848 - val_loss: 0.1165 - val_acc: 0.9743\n"
     ]
    }
   ],
   "source": [
    "history = model.fit(train_ds, epochs=30,\n",
    "                   steps_per_epoch = steps_per_epochs,\n",
    "                   validation_data=test_ds,\n",
    "                   validation_steps=val_step\n",
    ")"
   ]
  },
  {
   "cell_type": "code",
   "execution_count": 43,
   "metadata": {},
   "outputs": [
    {
     "data": {
      "text/plain": [
       "<matplotlib.legend.Legend at 0x27fb3905220>"
      ]
     },
     "execution_count": 43,
     "metadata": {},
     "output_type": "execute_result"
    },
    {
     "data": {
      "image/png": "[encoded data removed]",
      "text/plain": [
       "<Figure size 432x288 with 1 Axes>"
      ]
     },
     "metadata": {
      "needs_background": "light"
     },
     "output_type": "display_data"
    }
   ],
   "source": [
    "plt.plot(history.epoch, history.history.get('loss'), label='loss')\n",
    "plt.plot(history.epoch, history.history.get('val_loss'), label='val_loss')\n",
    "plt.legend()"
   ]
  },
  {
   "cell_type": "code",
   "execution_count": 44,
   "metadata": {},
   "outputs": [
    {
     "data": {
      "text/plain": [
       "<matplotlib.legend.Legend at 0x27fb3980af0>"
      ]
     },
     "execution_count": 44,
     "metadata": {},
     "output_type": "execute_result"
    },
    {
     "data": {
      "image/png": "[encoded data removed]",
      "text/plain": [
       "<Figure size 432x288 with 1 Axes>"
      ]
     },
     "metadata": {
      "needs_background": "light"
     },
     "output_type": "display_data"
    }
   ],
   "source": [
    "plt.plot(history.epoch, history.history.get('acc'), label='acc')\n",
    "plt.plot(history.epoch, history.history.get('val_acc'), label='val_acc')\n",
    "plt.legend()"
   ]
  },
  {
   "cell_type": "code",
   "execution_count": null,
   "metadata": {},
   "outputs": [],
   "source": []
  },
  {
   "cell_type": "code",
   "execution_count": null,
   "metadata": {},
   "outputs": [],
   "source": []
  },
  {
   "cell_type": "code",
   "execution_count": null,
   "metadata": {},
   "outputs": [],
   "source": []
  },
  {
   "cell_type": "code",
   "execution_count": null,
   "metadata": {},
   "outputs": [],
   "source": []
  }
 ],
 "metadata": {
  "kernelspec": {
   "display_name": "Python 3",
   "language": "python",
   "name": "python3"
  },
  "toc": {
   "base_numbering": 1,
   "nav_menu": {},
   "number_sections": true,
   "sideBar": true,
   "skip_h1_title": false,
   "title_cell": "Table of Contents",
   "title_sidebar": "Contents",
   "toc_cell": false,
   "toc_position": {},
   "toc_section_display": true,
   "toc_window_display": false
  }
 },
 "nbformat": 4,
 "nbformat_minor": 4
}
