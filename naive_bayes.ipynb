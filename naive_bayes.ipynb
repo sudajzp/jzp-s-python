{
 "cells": [
  {
   "cell_type": "markdown",
   "metadata": {},
   "source": [
    "## 导入数据并且导入图片化模块：PIL(python Image Library)"
   ]
  },
  {
   "cell_type": "code",
   "execution_count": 1,
   "metadata": {},
   "outputs": [],
   "source": [
    "from sklearn.datasets import load_digits\n",
    "import numpy as np\n",
    "\n",
    "from PIL import Image\n",
    "\n",
    "digits = load_digits()\n",
    "def img_show(img):\n",
    "    pil_img = Image.fromarray(img)\n",
    "    pil_img.show()"
   ]
  },
  {
   "cell_type": "markdown",
   "metadata": {},
   "source": [
    "## 查看数据集状态 "
   ]
  },
  {
   "cell_type": "code",
   "execution_count": 2,
   "metadata": {},
   "outputs": [
    {
     "name": "stdout",
     "output_type": "stream",
     "text": [
      "{'data': array([[ 0.,  0.,  5., ...,  0.,  0.,  0.],\n",
      "       [ 0.,  0.,  0., ..., 10.,  0.,  0.],\n",
      "       [ 0.,  0.,  0., ..., 16.,  9.,  0.],\n",
      "       ...,\n",
      "       [ 0.,  0.,  1., ...,  6.,  0.,  0.],\n",
      "       [ 0.,  0.,  2., ..., 12.,  0.,  0.],\n",
      "       [ 0.,  0., 10., ..., 12.,  1.,  0.]]), 'target': array([0, 1, 2, ..., 8, 9, 8]), 'frame': None, 'feature_names': ['pixel_0_0', 'pixel_0_1', 'pixel_0_2', 'pixel_0_3', 'pixel_0_4', 'pixel_0_5', 'pixel_0_6', 'pixel_0_7', 'pixel_1_0', 'pixel_1_1', 'pixel_1_2', 'pixel_1_3', 'pixel_1_4', 'pixel_1_5', 'pixel_1_6', 'pixel_1_7', 'pixel_2_0', 'pixel_2_1', 'pixel_2_2', 'pixel_2_3', 'pixel_2_4', 'pixel_2_5', 'pixel_2_6', 'pixel_2_7', 'pixel_3_0', 'pixel_3_1', 'pixel_3_2', 'pixel_3_3', 'pixel_3_4', 'pixel_3_5', 'pixel_3_6', 'pixel_3_7', 'pixel_4_0', 'pixel_4_1', 'pixel_4_2', 'pixel_4_3', 'pixel_4_4', 'pixel_4_5', 'pixel_4_6', 'pixel_4_7', 'pixel_5_0', 'pixel_5_1', 'pixel_5_2', 'pixel_5_3', 'pixel_5_4', 'pixel_5_5', 'pixel_5_6', 'pixel_5_7', 'pixel_6_0', 'pixel_6_1', 'pixel_6_2', 'pixel_6_3', 'pixel_6_4', 'pixel_6_5', 'pixel_6_6', 'pixel_6_7', 'pixel_7_0', 'pixel_7_1', 'pixel_7_2', 'pixel_7_3', 'pixel_7_4', 'pixel_7_5', 'pixel_7_6', 'pixel_7_7'], 'target_names': array([0, 1, 2, 3, 4, 5, 6, 7, 8, 9]), 'images': array([[[ 0.,  0.,  5., ...,  1.,  0.,  0.],\n",
      "        [ 0.,  0., 13., ..., 15.,  5.,  0.],\n",
      "        [ 0.,  3., 15., ..., 11.,  8.,  0.],\n",
      "        ...,\n",
      "        [ 0.,  4., 11., ..., 12.,  7.,  0.],\n",
      "        [ 0.,  2., 14., ..., 12.,  0.,  0.],\n",
      "        [ 0.,  0.,  6., ...,  0.,  0.,  0.]],\n",
      "\n",
      "       [[ 0.,  0.,  0., ...,  5.,  0.,  0.],\n",
      "        [ 0.,  0.,  0., ...,  9.,  0.,  0.],\n",
      "        [ 0.,  0.,  3., ...,  6.,  0.,  0.],\n",
      "        ...,\n",
      "        [ 0.,  0.,  1., ...,  6.,  0.,  0.],\n",
      "        [ 0.,  0.,  1., ...,  6.,  0.,  0.],\n",
      "        [ 0.,  0.,  0., ..., 10.,  0.,  0.]],\n",
      "\n",
      "       [[ 0.,  0.,  0., ..., 12.,  0.,  0.],\n",
      "        [ 0.,  0.,  3., ..., 14.,  0.,  0.],\n",
      "        [ 0.,  0.,  8., ..., 16.,  0.,  0.],\n",
      "        ...,\n",
      "        [ 0.,  9., 16., ...,  0.,  0.,  0.],\n",
      "        [ 0.,  3., 13., ..., 11.,  5.,  0.],\n",
      "        [ 0.,  0.,  0., ..., 16.,  9.,  0.]],\n",
      "\n",
      "       ...,\n",
      "\n",
      "       [[ 0.,  0.,  1., ...,  1.,  0.,  0.],\n",
      "        [ 0.,  0., 13., ...,  2.,  1.,  0.],\n",
      "        [ 0.,  0., 16., ..., 16.,  5.,  0.],\n",
      "        ...,\n",
      "        [ 0.,  0., 16., ..., 15.,  0.,  0.],\n",
      "        [ 0.,  0., 15., ..., 16.,  0.,  0.],\n",
      "        [ 0.,  0.,  2., ...,  6.,  0.,  0.]],\n",
      "\n",
      "       [[ 0.,  0.,  2., ...,  0.,  0.,  0.],\n",
      "        [ 0.,  0., 14., ..., 15.,  1.,  0.],\n",
      "        [ 0.,  4., 16., ..., 16.,  7.,  0.],\n",
      "        ...,\n",
      "        [ 0.,  0.,  0., ..., 16.,  2.,  0.],\n",
      "        [ 0.,  0.,  4., ..., 16.,  2.,  0.],\n",
      "        [ 0.,  0.,  5., ..., 12.,  0.,  0.]],\n",
      "\n",
      "       [[ 0.,  0., 10., ...,  1.,  0.,  0.],\n",
      "        [ 0.,  2., 16., ...,  1.,  0.,  0.],\n",
      "        [ 0.,  0., 15., ..., 15.,  0.,  0.],\n",
      "        ...,\n",
      "        [ 0.,  4., 16., ..., 16.,  6.,  0.],\n",
      "        [ 0.,  8., 16., ..., 16.,  8.,  0.],\n",
      "        [ 0.,  1.,  8., ..., 12.,  1.,  0.]]]), 'DESCR': \".. _digits_dataset:\\n\\nOptical recognition of handwritten digits dataset\\n--------------------------------------------------\\n\\n**Data Set Characteristics:**\\n\\n    :Number of Instances: 5620\\n    :Number of Attributes: 64\\n    :Attribute Information: 8x8 image of integer pixels in the range 0..16.\\n    :Missing Attribute Values: None\\n    :Creator: E. Alpaydin (alpaydin '@' boun.edu.tr)\\n    :Date: July; 1998\\n\\nThis is a copy of the test set of the UCI ML hand-written digits datasets\\nhttps://archive.ics.uci.edu/ml/datasets/Optical+Recognition+of+Handwritten+Digits\\n\\nThe data set contains images of hand-written digits: 10 classes where\\neach class refers to a digit.\\n\\nPreprocessing programs made available by NIST were used to extract\\nnormalized bitmaps of handwritten digits from a preprinted form. From a\\ntotal of 43 people, 30 contributed to the training set and different 13\\nto the test set. 32x32 bitmaps are divided into nonoverlapping blocks of\\n4x4 and the number of on pixels are counted in each block. This generates\\nan input matrix of 8x8 where each element is an integer in the range\\n0..16. This reduces dimensionality and gives invariance to small\\ndistortions.\\n\\nFor info on NIST preprocessing routines, see M. D. Garris, J. L. Blue, G.\\nT. Candela, D. L. Dimmick, J. Geist, P. J. Grother, S. A. Janet, and C.\\nL. Wilson, NIST Form-Based Handprint Recognition System, NISTIR 5469,\\n1994.\\n\\n.. topic:: References\\n\\n  - C. Kaynak (1995) Methods of Combining Multiple Classifiers and Their\\n    Applications to Handwritten Digit Recognition, MSc Thesis, Institute of\\n    Graduate Studies in Science and Engineering, Bogazici University.\\n  - E. Alpaydin, C. Kaynak (1998) Cascading Classifiers, Kybernetika.\\n  - Ken Tang and Ponnuthurai N. Suganthan and Xi Yao and A. Kai Qin.\\n    Linear dimensionalityreduction using relevance weighted LDA. School of\\n    Electrical and Electronic Engineering Nanyang Technological University.\\n    2005.\\n  - Claudio Gentile. A New Approximate Maximal Margin Classification\\n    Algorithm. NIPS. 2000.\"}\n",
      "(1797, 64)\n",
      "(1797, 8, 8)\n",
      "[[ 0.  0.  5. 13.  9.  1.  0.  0.]\n",
      " [ 0.  0. 13. 15. 10. 15.  5.  0.]\n",
      " [ 0.  3. 15.  2.  0. 11.  8.  0.]\n",
      " [ 0.  4. 12.  0.  0.  8.  8.  0.]\n",
      " [ 0.  5.  8.  0.  0.  9.  8.  0.]\n",
      " [ 0.  4. 11.  0.  1. 12.  7.  0.]\n",
      " [ 0.  2. 14.  5. 10. 12.  0.  0.]\n",
      " [ 0.  0.  6. 13. 10.  0.  0.  0.]]\n"
     ]
    }
   ],
   "source": [
    "# print(digits)\n",
    "# print(digits['data'].shape)\n",
    "# print(digits['images'].shape)\n",
    "# print(digits['images'][0])"
   ]
  },
  {
   "cell_type": "markdown",
   "metadata": {},
   "source": [
    "## 尝试图片化，像素太小无法查看"
   ]
  },
  {
   "cell_type": "code",
   "execution_count": 3,
   "metadata": {},
   "outputs": [
    {
     "name": "stdout",
     "output_type": "stream",
     "text": [
      "(64,)\n",
      "(8, 8)\n",
      "[[ 0.  0.  5. 13.  9.  1.  0.  0.]\n",
      " [ 0.  0. 13. 15. 10. 15.  5.  0.]\n",
      " [ 0.  3. 15.  2.  0. 11.  8.  0.]\n",
      " [ 0.  4. 12.  0.  0.  8.  8.  0.]\n",
      " [ 0.  5.  8.  0.  0.  9.  8.  0.]\n",
      " [ 0.  4. 11.  0.  1. 12.  7.  0.]\n",
      " [ 0.  2. 14.  5. 10. 12.  0.  0.]\n",
      " [ 0.  0.  6. 13. 10.  0.  0.  0.]]\n"
     ]
    }
   ],
   "source": [
    "img = digits['data'][0]\n",
    "print(img.shape)\n",
    "img = img.reshape(8, 8)\n",
    "print(img.shape)\n",
    "print(img)\n",
    "img_show(img)"
   ]
  },
  {
   "cell_type": "markdown",
   "metadata": {},
   "source": [
    "## 划分训练集和测试集 "
   ]
  },
  {
   "cell_type": "code",
   "execution_count": 4,
   "metadata": {},
   "outputs": [
    {
     "name": "stdout",
     "output_type": "stream",
     "text": [
      "[[ 0.  1. 10. ...  0.  0.  0.]\n",
      " [ 0.  0.  5. ...  4.  0.  0.]\n",
      " [ 0.  0.  2. ... 16.  2.  0.]\n",
      " ...\n",
      " [ 0.  0.  8. ...  4.  0.  0.]\n",
      " [ 0.  2. 13. ... 12. 12.  1.]\n",
      " [ 0.  0.  6. ...  8.  0.  0.]]\n",
      "[7 0 9 ... 0 2 1]\n",
      "[[ 0.  0.  4. ...  2.  0.  0.]\n",
      " [ 0.  0.  2. ...  0.  0.  0.]\n",
      " [ 0.  0.  0. ... 15.  6.  0.]\n",
      " ...\n",
      " [ 0.  0.  6. ...  3.  0.  0.]\n",
      " [ 0.  0.  0. ... 15.  7.  0.]\n",
      " [ 0.  0.  0. ...  8.  0.  0.]]\n",
      "[0 4 1 2 0 0 8 7 6 6 3 6 9 7 4 7 4 3 2 6 4 3 4 7 1 0 7 4 8 3 4 0 5 5 5 1 2\n",
      " 9 0 0 0 8 2 3 7 0 1 7 1 3 8 4 2 9 6 0 4 5 4 4 7 9 9 5 0 3 7 4 9 1 8 0 9 3\n",
      " 0 2 7 8 1 6 9 3 3 2 2 3 8 2 4 6 9 5 8 4 7 3 7 2 5 6 5 6 1 0 6 4 8 1 5 6 8\n",
      " 8 8 6 4 0 2 7 5 0 8 5 8 4 7 0 5 9 0 1 8 4 7 9 6 1 2 7 1 3 5 3 5 2 7 4 9 2\n",
      " 0 0 9 2 8 4 0 9 7 0 1 4 1 8 0 7 9 1 9 7 2 7 7 0 5 3 4 0 5 2 3 0 3 0 1 9 5\n",
      " 4 8 2 6 0 9 7 8 8 7 3 0 9 5 3 6 3 7 9 0 5 7 6 5 3 1 0 4 3 1 0 5 3 7 3 2 3\n",
      " 5 0 7 4 5 3 0 0 5 7 5 2 4 2 9 3 3 0 9 3 1 3 1 7 4 7 4 5 2 1 1 4 7 1 7 5 2\n",
      " 5 2 5 0 9 2 0 7 6 5 4 9 1 4 1 8 0 7 4 7 1 3 4 9 5 0 3 0 5 4 3 6 1 4 3 8 5\n",
      " 2 7 4 6 4 8 3 0 1 5 7 7 1 3 4 8 8 5 2 2 1 7 8 3 9 8 4 4 2 5 5 0 1 9 1 0 8\n",
      " 1 4 0 6 9 9 7 1 4 5 0 6 2 4 3 3 4 1 7 6 6 8 3 6 6 2 0 1 8 4 2 2 7 6 7 0 8\n",
      " 4 8 0 4 6 2 4 9 5 6 0 4 3 2 2 9 4 7 3 2 2 0 8 7 1 8 1 3 2 4 1 1 1 2 1 8 3\n",
      " 0 0 9 6 6 5 5 8 3 7 4 6 8 1 3 6 4 3 2 6 8 2 1 2 1 4 1 4 8 6 3 2 8 2 0 0 2\n",
      " 6 1 6 9 7 7 9 3 8 5 6 7 8 4 1 7 8 9 8 3 0 2 2 9 0 4 6 7 3 1 5 9 9 7 9 4 0\n",
      " 5 7 5 8 5 2 7 8 5 0 8 9 6 1 1 0 3 1 1 3 8 1 2 0 2 6 0 2 4 8 3 4 7 8 4 8 9\n",
      " 7 3 5 1 9 2 9 2 9 0 6 3 5 6 8 9 9 0 9 1 2 2 7 3 3 1 6 1 0 3 6 2 7 8 7 9 9\n",
      " 2 4 9 1 6 6 4 9 9 4 2 4 4 9 1 7 4 3 9 4 1 4 5 5 9 2 3 8 1 1 6 9 2 8 6 7 1\n",
      " 9 0]\n"
     ]
    }
   ],
   "source": [
    "from sklearn.model_selection import train_test_split\n",
    "x_train, x_test, y_train, y_test = train_test_split(digits['data'], digits['target'], test_size = 0.33, random_state = 3)\n",
    "# print(x_train)\n",
    "# print(y_train)\n",
    "# print(x_test)\n",
    "# print(y_test)"
   ]
  },
  {
   "cell_type": "markdown",
   "metadata": {},
   "source": [
    "## 使用三种分类器对数据进行分类 "
   ]
  },
  {
   "cell_type": "code",
   "execution_count": 5,
   "metadata": {},
   "outputs": [],
   "source": [
    "from sklearn.naive_bayes import GaussianNB, MultinomialNB, BernoulliNB\n",
    "from sklearn.metrics import accuracy_score"
   ]
  },
  {
   "cell_type": "markdown",
   "metadata": {},
   "source": [
    "## 伯努利朴素贝叶斯分类器 "
   ]
  },
  {
   "cell_type": "code",
   "execution_count": 14,
   "metadata": {},
   "outputs": [
    {
     "name": "stdout",
     "output_type": "stream",
     "text": [
      "BermouliNB准确率为：0.8333\n"
     ]
    }
   ],
   "source": [
    "model_b = BernoulliNB()       # 建立模型\n",
    "model_b = model_b.fit(x_train,y_train)             # 用模型对数据进行拟合\n",
    "pred_b =model_b.predict(x_test)          # 在测试集上进行预测\n",
    "accuracy_score_b = accuracy_score(y_test,pred_b)            # 计算准确率\n",
    "print(f'BermouliNB准确率为：{accuracy_score_b:.4}')"
   ]
  },
  {
   "cell_type": "markdown",
   "metadata": {},
   "source": [
    "## 高斯朴素贝叶斯分类器 "
   ]
  },
  {
   "cell_type": "code",
   "execution_count": 12,
   "metadata": {},
   "outputs": [
    {
     "name": "stdout",
     "output_type": "stream",
     "text": [
      "GaussianNB准确率:  0.8350\n"
     ]
    }
   ],
   "source": [
    "model_g = GaussianNB( )\n",
    "model_g.fit(x_train,y_train)\n",
    "pred_g = model_g.predict(x_test)\n",
    "accuracy_score_g = accuracy_score(y_test, pred_g)\n",
    "print(f'GaussianNB准确率: {accuracy_score_g: .4f}')"
   ]
  },
  {
   "cell_type": "markdown",
   "metadata": {},
   "source": [
    "## 多项式朴素贝叶斯分类器 "
   ]
  },
  {
   "cell_type": "code",
   "execution_count": 13,
   "metadata": {},
   "outputs": [
    {
     "name": "stdout",
     "output_type": "stream",
     "text": [
      "MultionmialNB准确率：0.8838\n"
     ]
    }
   ],
   "source": [
    "model_m = MultinomialNB(fit_prior=True)\n",
    "model_m.fit(x_train,y_train)\n",
    "pred_m  = model_m.predict(x_test)\n",
    "accuracy_score_m = accuracy_score(y_test,pred_m)\n",
    "print(f'MultionmialNB准确率：{accuracy_score_m:.4f}')"
   ]
  },
  {
   "cell_type": "code",
   "execution_count": null,
   "metadata": {},
   "outputs": [],
   "source": []
  }
 ],
 "metadata": {
  "kernelspec": {
   "display_name": "Python 3",
   "language": "python",
   "name": "python3"
  },
  "language_info": {
   "codemirror_mode": {
    "name": "ipython",
    "version": 3
   },
   "file_extension": ".py",
   "mimetype": "text/x-python",
   "name": "python",
   "nbconvert_exporter": "python",
   "pygments_lexer": "ipython3",
   "version": "3.8.6"
  }
 },
 "nbformat": 4,
 "nbformat_minor": 4
}
